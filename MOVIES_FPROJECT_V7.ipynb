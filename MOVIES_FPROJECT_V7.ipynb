{
  "nbformat": 4,
  "nbformat_minor": 0,
  "metadata": {
    "colab": {
      "name": "MOVIES_FPROJECT_V1.ipynb",
      "version": "0.3.2",
      "provenance": [],
      "collapsed_sections": [],
      "include_colab_link": true
    },
    "kernelspec": {
      "name": "python3",
      "display_name": "Python 3"
    },
    "accelerator": "GPU"
  },
  "cells": [
    {
      "cell_type": "markdown",
      "metadata": {
        "id": "view-in-github",
        "colab_type": "text"
      },
      "source": [
        "[View in Colaboratory](https://colab.research.google.com/github/jesandovala/Project-Final-Classification-Images/blob/master/MOVIES_FPROJECT_V7.ipynb)"
      ]
    },
    {
      "metadata": {
        "id": "hSgqXwJQjWVN",
        "colab_type": "text"
      },
      "cell_type": "markdown",
      "source": [
        "####Created by Aleksey Sepúlveda Durán & Jose Eduardo Sandoval Alba"
      ]
    },
    {
      "metadata": {
        "id": "kPq80JVNfMBp",
        "colab_type": "code",
        "colab": {
          "base_uri": "https://localhost:8080/",
          "height": 34
        },
        "outputId": "d003d3ca-0e50-407f-e25d-b7db6e6c7a6c"
      },
      "cell_type": "code",
      "source": [
        "from keras import backend as K\n",
        "K.clear_session()"
      ],
      "execution_count": 0,
      "outputs": [
        {
          "output_type": "stream",
          "text": [
            "Using TensorFlow backend.\n"
          ],
          "name": "stderr"
        }
      ]
    },
    {
      "metadata": {
        "id": "baecaRwesFzv",
        "colab_type": "text"
      },
      "cell_type": "markdown",
      "source": [
        "# Deep Learning - Project Final - Classification Movies\n",
        "\n",
        "![Image of Yaktocat](http://usblogs.pwc.com/emerging-technology/wp-content/uploads/2017/07/deep-learning-900x280.png)"
      ]
    },
    {
      "metadata": {
        "id": "JENbetCujxuv",
        "colab_type": "text"
      },
      "cell_type": "markdown",
      "source": [
        "### Import Modules"
      ]
    },
    {
      "metadata": {
        "id": "8s5uBFFgiy6-",
        "colab_type": "code",
        "colab": {
          "base_uri": "https://localhost:8080/",
          "height": 1176
        },
        "outputId": "ca8a8dac-a31c-43b3-b118-067a214e2b23"
      },
      "cell_type": "code",
      "source": [
        "\n",
        "!pip install tqdm\n",
        "!pip install livelossplot\n",
        "!pip install -U -q PyDrive\n",
        "!pip install pprint\n",
        "\n",
        "import pandas as pd\n",
        "import os\n",
        "import numpy as np\n",
        "import matplotlib.pyplot as plt\n",
        "import keras.optimizers as krsopt\n",
        "\n",
        "from sklearn.preprocessing import MultiLabelBinarizer\n",
        "from sklearn.model_selection import train_test_split\n",
        "from sklearn.decomposition import PCA\n",
        "from tqdm import tqdm\n",
        "from zipfile import *\n",
        "from livelossplot import PlotLossesKeras\n",
        "from pprint import pprint\n",
        "\n",
        "\n",
        "\n",
        "%matplotlib inline"
      ],
      "execution_count": 0,
      "outputs": [
        {
          "output_type": "stream",
          "text": [
            "Collecting tqdm\n",
            "\u001b[?25l  Downloading https://files.pythonhosted.org/packages/93/24/6ab1df969db228aed36a648a8959d1027099ce45fad67532b9673d533318/tqdm-4.23.4-py2.py3-none-any.whl (42kB)\n",
            "\u001b[K    100% |████████████████████████████████| 51kB 1.8MB/s \n",
            "\u001b[?25hInstalling collected packages: tqdm\n",
            "Successfully installed tqdm-4.23.4\n",
            "\u001b[33mYou are using pip version 10.0.1, however version 18.0 is available.\n",
            "You should consider upgrading via the 'pip install --upgrade pip' command.\u001b[0m\n",
            "Collecting livelossplot\n",
            "  Downloading https://files.pythonhosted.org/packages/0c/01/3e34559dbdb98580d5e8f62bc3853975c2a2079834bfba2c1bdffe680804/livelossplot-0.2.0.tar.gz\n",
            "Requirement already satisfied: matplotlib in /usr/local/lib/python3.6/dist-packages (from livelossplot) (2.1.2)\n",
            "Requirement already satisfied: notebook in /usr/local/lib/python3.6/dist-packages (from livelossplot) (5.2.2)\n",
            "Requirement already satisfied: cycler>=0.10 in /usr/local/lib/python3.6/dist-packages (from matplotlib->livelossplot) (0.10.0)\n",
            "Requirement already satisfied: python-dateutil>=2.1 in /usr/local/lib/python3.6/dist-packages (from matplotlib->livelossplot) (2.5.3)\n",
            "Requirement already satisfied: pyparsing!=2.0.4,!=2.1.2,!=2.1.6,>=2.0.1 in /usr/local/lib/python3.6/dist-packages (from matplotlib->livelossplot) (2.2.0)\n",
            "Requirement already satisfied: pytz in /usr/local/lib/python3.6/dist-packages (from matplotlib->livelossplot) (2018.5)\n",
            "Requirement already satisfied: numpy>=1.7.1 in /usr/local/lib/python3.6/dist-packages (from matplotlib->livelossplot) (1.14.5)\n",
            "Requirement already satisfied: six>=1.10 in /usr/local/lib/python3.6/dist-packages (from matplotlib->livelossplot) (1.11.0)\n",
            "Requirement already satisfied: jupyter-client in /usr/local/lib/python3.6/dist-packages (from notebook->livelossplot) (5.2.3)\n",
            "Requirement already satisfied: terminado>=0.3.3; sys_platform != \"win32\" in /usr/local/lib/python3.6/dist-packages (from notebook->livelossplot) (0.8.1)\n",
            "Requirement already satisfied: jinja2 in /usr/local/lib/python3.6/dist-packages (from notebook->livelossplot) (2.10)\n",
            "Requirement already satisfied: jupyter-core in /usr/local/lib/python3.6/dist-packages (from notebook->livelossplot) (4.4.0)\n",
            "Requirement already satisfied: nbconvert in /usr/local/lib/python3.6/dist-packages (from notebook->livelossplot) (5.3.1)\n",
            "Requirement already satisfied: tornado>=4 in /usr/local/lib/python3.6/dist-packages (from notebook->livelossplot) (4.5.3)\n",
            "Requirement already satisfied: ipykernel in /usr/local/lib/python3.6/dist-packages (from notebook->livelossplot) (4.6.1)\n",
            "Requirement already satisfied: traitlets>=4.2.1 in /usr/local/lib/python3.6/dist-packages (from notebook->livelossplot) (4.3.2)\n",
            "Requirement already satisfied: nbformat in /usr/local/lib/python3.6/dist-packages (from notebook->livelossplot) (4.4.0)\n",
            "Requirement already satisfied: ipython-genutils in /usr/local/lib/python3.6/dist-packages (from notebook->livelossplot) (0.2.0)\n",
            "Requirement already satisfied: pyzmq>=13 in /usr/local/lib/python3.6/dist-packages (from jupyter-client->notebook->livelossplot) (16.0.4)\n",
            "Requirement already satisfied: ptyprocess; os_name != \"nt\" in /usr/local/lib/python3.6/dist-packages (from terminado>=0.3.3; sys_platform != \"win32\"->notebook->livelossplot) (0.6.0)\n",
            "Requirement already satisfied: MarkupSafe>=0.23 in /usr/local/lib/python3.6/dist-packages (from jinja2->notebook->livelossplot) (1.0)\n",
            "Requirement already satisfied: bleach in /usr/local/lib/python3.6/dist-packages (from nbconvert->notebook->livelossplot) (2.1.3)\n",
            "Requirement already satisfied: entrypoints>=0.2.2 in /usr/local/lib/python3.6/dist-packages (from nbconvert->notebook->livelossplot) (0.2.3)\n",
            "Requirement already satisfied: testpath in /usr/local/lib/python3.6/dist-packages (from nbconvert->notebook->livelossplot) (0.3.1)\n",
            "Requirement already satisfied: pygments in /usr/local/lib/python3.6/dist-packages (from nbconvert->notebook->livelossplot) (2.1.3)\n",
            "Requirement already satisfied: pandocfilters>=1.4.1 in /usr/local/lib/python3.6/dist-packages (from nbconvert->notebook->livelossplot) (1.4.2)\n",
            "Requirement already satisfied: mistune>=0.7.4 in /usr/local/lib/python3.6/dist-packages (from nbconvert->notebook->livelossplot) (0.8.3)\n",
            "Requirement already satisfied: ipython>=4.0.0 in /usr/local/lib/python3.6/dist-packages (from ipykernel->notebook->livelossplot) (5.5.0)\n",
            "Requirement already satisfied: decorator in /usr/local/lib/python3.6/dist-packages (from traitlets>=4.2.1->notebook->livelossplot) (4.3.0)\n",
            "Requirement already satisfied: jsonschema!=2.5.0,>=2.4 in /usr/local/lib/python3.6/dist-packages (from nbformat->notebook->livelossplot) (2.6.0)\n",
            "Requirement already satisfied: html5lib!=1.0b1,!=1.0b2,!=1.0b3,!=1.0b4,!=1.0b5,!=1.0b6,!=1.0b7,!=1.0b8,>=0.99999999pre in /usr/local/lib/python3.6/dist-packages (from bleach->nbconvert->notebook->livelossplot) (1.0.1)\n",
            "Requirement already satisfied: prompt-toolkit<2.0.0,>=1.0.4 in /usr/local/lib/python3.6/dist-packages (from ipython>=4.0.0->ipykernel->notebook->livelossplot) (1.0.15)\n",
            "Requirement already satisfied: pickleshare in /usr/local/lib/python3.6/dist-packages (from ipython>=4.0.0->ipykernel->notebook->livelossplot) (0.7.4)\n",
            "Requirement already satisfied: simplegeneric>0.8 in /usr/local/lib/python3.6/dist-packages (from ipython>=4.0.0->ipykernel->notebook->livelossplot) (0.8.1)\n",
            "Requirement already satisfied: pexpect; sys_platform != \"win32\" in /usr/local/lib/python3.6/dist-packages (from ipython>=4.0.0->ipykernel->notebook->livelossplot) (4.6.0)\n",
            "Requirement already satisfied: setuptools>=18.5 in /usr/local/lib/python3.6/dist-packages (from ipython>=4.0.0->ipykernel->notebook->livelossplot) (39.1.0)\n",
            "Requirement already satisfied: webencodings in /usr/local/lib/python3.6/dist-packages (from html5lib!=1.0b1,!=1.0b2,!=1.0b3,!=1.0b4,!=1.0b5,!=1.0b6,!=1.0b7,!=1.0b8,>=0.99999999pre->bleach->nbconvert->notebook->livelossplot) (0.5.1)\n",
            "Requirement already satisfied: wcwidth in /usr/local/lib/python3.6/dist-packages (from prompt-toolkit<2.0.0,>=1.0.4->ipython>=4.0.0->ipykernel->notebook->livelossplot) (0.1.7)\n",
            "Building wheels for collected packages: livelossplot\n",
            "  Running setup.py bdist_wheel for livelossplot ... \u001b[?25l-\b \b\\\b \bdone\n",
            "\u001b[?25h  Stored in directory: /content/.cache/pip/wheels/67/8b/e9/3990164e3b2a421145b9d9d76fc8aa889225d495b043faeb73\n",
            "Successfully built livelossplot\n",
            "Installing collected packages: livelossplot\n",
            "Successfully installed livelossplot-0.2.0\n",
            "\u001b[33mYou are using pip version 10.0.1, however version 18.0 is available.\n",
            "You should consider upgrading via the 'pip install --upgrade pip' command.\u001b[0m\n",
            "\u001b[33mYou are using pip version 10.0.1, however version 18.0 is available.\n",
            "You should consider upgrading via the 'pip install --upgrade pip' command.\u001b[0m\n",
            "Collecting pprint\n",
            "  Downloading https://files.pythonhosted.org/packages/99/12/b6383259ef85c2b942ab9135f322c0dce83fdca8600d87122d2b0181451f/pprint-0.1.tar.gz\n",
            "Building wheels for collected packages: pprint\n",
            "  Running setup.py bdist_wheel for pprint ... \u001b[?25l-"
          ],
          "name": "stdout"
        },
        {
          "output_type": "stream",
          "text": [
            "\b \bdone\r\n",
            "\u001b[?25h  Stored in directory: /content/.cache/pip/wheels/42/d4/c6/16a6495aecc1bda5d5857bd036efd50617789ba9bea4a05124\r\n",
            "Successfully built pprint\n",
            "Installing collected packages: pprint\n",
            "Successfully installed pprint-0.1\n",
            "\u001b[33mYou are using pip version 10.0.1, however version 18.0 is available.\n",
            "You should consider upgrading via the 'pip install --upgrade pip' command.\u001b[0m\n"
          ],
          "name": "stdout"
        }
      ]
    },
    {
      "metadata": {
        "id": "dSR5jPH1sOJc",
        "colab_type": "text"
      },
      "cell_type": "markdown",
      "source": [
        "### In this part the information is imported from Git Hub"
      ]
    },
    {
      "metadata": {
        "id": "68QvCaAin9s-",
        "colab_type": "code",
        "colab": {
          "base_uri": "https://localhost:8080/",
          "height": 204
        },
        "outputId": "b46d47a8-dcb3-43a2-b833-b72d9c2b1682"
      },
      "cell_type": "code",
      "source": [
        "dataTesting = pd.read_csv(os.path.join('https://github.com/jesandovala/Project-Final-Classification-Images/raw/master/dataTesting.csv'), encoding='UTF-8', index_col=0)\n",
        "dataTraining = pd.read_csv(os.path.join('https://github.com/jesandovala/Project-Final-Classification-Images/raw/master/dataTraining.csv'), encoding='UTF-8', index_col=0)\n",
        "\n",
        "dataTesting.head()"
      ],
      "execution_count": 0,
      "outputs": [
        {
          "output_type": "execute_result",
          "data": {
            "text/html": [
              "<div>\n",
              "<style scoped>\n",
              "    .dataframe tbody tr th:only-of-type {\n",
              "        vertical-align: middle;\n",
              "    }\n",
              "\n",
              "    .dataframe tbody tr th {\n",
              "        vertical-align: top;\n",
              "    }\n",
              "\n",
              "    .dataframe thead th {\n",
              "        text-align: right;\n",
              "    }\n",
              "</style>\n",
              "<table border=\"1\" class=\"dataframe\">\n",
              "  <thead>\n",
              "    <tr style=\"text-align: right;\">\n",
              "      <th></th>\n",
              "      <th>year</th>\n",
              "      <th>title</th>\n",
              "      <th>plot</th>\n",
              "    </tr>\n",
              "  </thead>\n",
              "  <tbody>\n",
              "    <tr>\n",
              "      <th>1</th>\n",
              "      <td>1999</td>\n",
              "      <td>Message in a Bottle</td>\n",
              "      <td>who meets by fate ,  shall be sealed by fate ....</td>\n",
              "    </tr>\n",
              "    <tr>\n",
              "      <th>4</th>\n",
              "      <td>1978</td>\n",
              "      <td>Midnight Express</td>\n",
              "      <td>the true story of billy hayes ,  an american c...</td>\n",
              "    </tr>\n",
              "    <tr>\n",
              "      <th>5</th>\n",
              "      <td>1996</td>\n",
              "      <td>Primal Fear</td>\n",
              "      <td>martin vail left the chicago da ' s office to ...</td>\n",
              "    </tr>\n",
              "    <tr>\n",
              "      <th>6</th>\n",
              "      <td>1950</td>\n",
              "      <td>Crisis</td>\n",
              "      <td>husband and wife americans dr .  eugene and mr...</td>\n",
              "    </tr>\n",
              "    <tr>\n",
              "      <th>7</th>\n",
              "      <td>1959</td>\n",
              "      <td>The Tingler</td>\n",
              "      <td>the coroner and scientist dr .  warren chapin ...</td>\n",
              "    </tr>\n",
              "  </tbody>\n",
              "</table>\n",
              "</div>"
            ],
            "text/plain": [
              "   year                title  \\\n",
              "1  1999  Message in a Bottle   \n",
              "4  1978     Midnight Express   \n",
              "5  1996          Primal Fear   \n",
              "6  1950               Crisis   \n",
              "7  1959          The Tingler   \n",
              "\n",
              "                                                plot  \n",
              "1  who meets by fate ,  shall be sealed by fate ....  \n",
              "4  the true story of billy hayes ,  an american c...  \n",
              "5  martin vail left the chicago da ' s office to ...  \n",
              "6  husband and wife americans dr .  eugene and mr...  \n",
              "7  the coroner and scientist dr .  warren chapin ...  "
            ]
          },
          "metadata": {
            "tags": []
          },
          "execution_count": 3
        }
      ]
    },
    {
      "metadata": {
        "id": "mYNmDQHOsT5v",
        "colab_type": "text"
      },
      "cell_type": "markdown",
      "source": [
        "### Because there is no local access from Colab to the information, it was uploaded and imported from there"
      ]
    },
    {
      "metadata": {
        "id": "rKKRCB-uXhpH",
        "colab_type": "code",
        "colab": {}
      },
      "cell_type": "code",
      "source": [
        "# Authenticate and create the PyDrive client.\n",
        "# This only needs to be done once per notebook.\n",
        "from pydrive.auth import GoogleAuth\n",
        "from pydrive.drive import GoogleDrive\n",
        "from google.colab import auth\n",
        "from oauth2client.client import GoogleCredentials\n",
        "auth.authenticate_user()\n",
        "gauth = GoogleAuth()\n",
        "gauth.credentials = GoogleCredentials.get_application_default()\n",
        "drive = GoogleDrive(gauth)"
      ],
      "execution_count": 0,
      "outputs": []
    },
    {
      "metadata": {
        "id": "hPQqzCWebCYh",
        "colab_type": "code",
        "colab": {}
      },
      "cell_type": "code",
      "source": [
        "# Download a file based on its file ID.\n",
        "#\n",
        "# A file ID looks like: laggVyWshwcyP6kEI-y_W3P8D26sz\n",
        "file_id = '1cFX4osUZTu-SSa8gHh8kRA00L3eQwWnI'\n",
        "downloaded = drive.CreateFile({'id': file_id})\n",
        "downloaded.GetContentFile(downloaded['title'])"
      ],
      "execution_count": 0,
      "outputs": []
    },
    {
      "metadata": {
        "id": "XTwfaE8WsbS8",
        "colab_type": "text"
      },
      "cell_type": "markdown",
      "source": [
        "### The file is unzipped and the existence of the information is verified"
      ]
    },
    {
      "metadata": {
        "id": "eJuoVA9JuNQZ",
        "colab_type": "code",
        "colab": {}
      },
      "cell_type": "code",
      "source": [
        "!unzip images_resize_gray.zip> /dev/null"
      ],
      "execution_count": 0,
      "outputs": []
    },
    {
      "metadata": {
        "id": "PkKNgypruT00",
        "colab_type": "code",
        "colab": {
          "base_uri": "https://localhost:8080/",
          "height": 34
        },
        "outputId": "bd9748c2-d2a6-48c4-e2e8-d14b2e2d6303"
      },
      "cell_type": "code",
      "source": [
        "!ls"
      ],
      "execution_count": 0,
      "outputs": [
        {
          "output_type": "stream",
          "text": [
            "datalab  images_resize_gray  images_resize_gray.zip\r\n"
          ],
          "name": "stdout"
        }
      ]
    },
    {
      "metadata": {
        "id": "slH6sOcv4X__",
        "colab_type": "code",
        "colab": {}
      },
      "cell_type": "code",
      "source": [
        "from skimage import io\n",
        "image = io.imread(os.path.join( 'images_resize_gray', str(dataTraining.index[110]) + '_resize_gray.jpeg'))"
      ],
      "execution_count": 0,
      "outputs": []
    },
    {
      "metadata": {
        "id": "5i5XH0usm_ts",
        "colab_type": "code",
        "colab": {
          "base_uri": "https://localhost:8080/",
          "height": 286
        },
        "outputId": "4efae9ec-8c54-4af1-9f88-858125fc81ca"
      },
      "cell_type": "code",
      "source": [
        "fig, ax = plt.subplots(nrows=1, ncols=1)\n",
        "ax.imshow(image, cmap='gray')"
      ],
      "execution_count": 0,
      "outputs": [
        {
          "output_type": "execute_result",
          "data": {
            "text/plain": [
              "<matplotlib.image.AxesImage at 0x7fd6c0598278>"
            ]
          },
          "metadata": {
            "tags": []
          },
          "execution_count": 9
        },
        {
          "output_type": "display_data",
          "data": {
            "image/png": "[encoded data removed]",
            "text/plain": [
              "<matplotlib.figure.Figure at 0x7fd6c068efd0>"
            ]
          },
          "metadata": {
            "tags": []
          }
        }
      ]
    },
    {
      "metadata": {
        "id": "kVmsG8N6sgps",
        "colab_type": "text"
      },
      "cell_type": "markdown",
      "source": [
        "### A set of information is created with the training taking into account the movie numbers that are inside the train file. This same process is done for test."
      ]
    },
    {
      "metadata": {
        "id": "VL4p-OnWfHl8",
        "colab_type": "code",
        "colab": {
          "base_uri": "https://localhost:8080/",
          "height": 34
        },
        "outputId": "36d2976c-9241-4d76-90bd-180b8d973644"
      },
      "cell_type": "code",
      "source": [
        "\n",
        "images_training = []\n",
        "for i in tqdm(dataTraining.index):\n",
        "    images_training.append(io.imread(os.path.join('images_resize_gray', str(i) + '_resize_gray.jpeg')))\n",
        "\n"
      ],
      "execution_count": 0,
      "outputs": [
        {
          "output_type": "stream",
          "text": [
            "100%|██████████| 7895/7895 [00:05<00:00, 1558.76it/s]\n"
          ],
          "name": "stderr"
        }
      ]
    },
    {
      "metadata": {
        "id": "kYqY9Chyfklx",
        "colab_type": "code",
        "colab": {
          "base_uri": "https://localhost:8080/",
          "height": 34
        },
        "outputId": "bb59713a-198b-410f-a352-4249befec1ca"
      },
      "cell_type": "code",
      "source": [
        "images_training = np.stack(images_training)\n",
        "\n",
        "images_training.shape, dataTraining.shape[0]"
      ],
      "execution_count": 0,
      "outputs": [
        {
          "output_type": "execute_result",
          "data": {
            "text/plain": [
              "((7895, 256, 160), 7895)"
            ]
          },
          "metadata": {
            "tags": []
          },
          "execution_count": 11
        }
      ]
    },
    {
      "metadata": {
        "id": "ZHVjAJp4gwf3",
        "colab_type": "code",
        "colab": {
          "base_uri": "https://localhost:8080/",
          "height": 51
        },
        "outputId": "0f8b1cb2-7ff6-4c98-89cb-ea8680ec9a2a"
      },
      "cell_type": "code",
      "source": [
        "images_testing = []\n",
        "for i in tqdm(dataTesting.index):\n",
        "    images_testing.append(io.imread(os.path.join( 'images_resize_gray', str(i) + '_resize_gray.jpeg')))\n",
        "\n",
        "images_testing = np.stack(images_testing)\n",
        "\n",
        "images_testing.shape, dataTesting.shape[0]"
      ],
      "execution_count": 0,
      "outputs": [
        {
          "output_type": "stream",
          "text": [
            "100%|██████████| 3383/3383 [00:02<00:00, 1664.42it/s]\n"
          ],
          "name": "stderr"
        },
        {
          "output_type": "execute_result",
          "data": {
            "text/plain": [
              "((3383, 256, 160), 3383)"
            ]
          },
          "metadata": {
            "tags": []
          },
          "execution_count": 12
        }
      ]
    },
    {
      "metadata": {
        "id": "hyD7GDccnQK8",
        "colab_type": "code",
        "colab": {}
      },
      "cell_type": "code",
      "source": [
        "dataTraining['genres'] = dataTraining['genres'].map(lambda x: eval(x))\n",
        "\n",
        "le = MultiLabelBinarizer()\n",
        "y_genres = le.fit_transform(dataTraining['genres'])"
      ],
      "execution_count": 0,
      "outputs": []
    },
    {
      "metadata": {
        "id": "V2oabXRplkeQ",
        "colab_type": "code",
        "colab": {}
      },
      "cell_type": "code",
      "source": [
        "X_train, X_test, y_train_genres, y_test_genres = train_test_split(images_training, y_genres, test_size=0.3, random_state=110)"
      ],
      "execution_count": 0,
      "outputs": []
    },
    {
      "metadata": {
        "id": "Il1YRBJulmcv",
        "colab_type": "code",
        "colab": {
          "base_uri": "https://localhost:8080/",
          "height": 34
        },
        "outputId": "b9f30e65-2a98-47f6-f03c-23767a1f3bfd"
      },
      "cell_type": "code",
      "source": [
        "X_test.shape"
      ],
      "execution_count": 0,
      "outputs": [
        {
          "output_type": "execute_result",
          "data": {
            "text/plain": [
              "(2369, 256, 160)"
            ]
          },
          "metadata": {
            "tags": []
          },
          "execution_count": 99
        }
      ]
    },
    {
      "metadata": {
        "id": "hPBUgpZTmwsJ",
        "colab_type": "code",
        "colab": {
          "base_uri": "https://localhost:8080/",
          "height": 34
        },
        "outputId": "96be69ea-ac0d-421c-cf42-24f91c9ef6cd"
      },
      "cell_type": "code",
      "source": [
        "y_test_genres.shape"
      ],
      "execution_count": 0,
      "outputs": [
        {
          "output_type": "execute_result",
          "data": {
            "text/plain": [
              "(2369, 24)"
            ]
          },
          "metadata": {
            "tags": []
          },
          "execution_count": 100
        }
      ]
    },
    {
      "metadata": {
        "id": "vgegYPQtkgMq",
        "colab_type": "text"
      },
      "cell_type": "markdown",
      "source": [
        "# CNN"
      ]
    },
    {
      "metadata": {
        "id": "EzEq-681vVE0",
        "colab_type": "text"
      },
      "cell_type": "markdown",
      "source": [
        "![Image of Yaktocat](http://www.ifp.uni-stuttgart.de/lehre/master_thesis/laupheimer/fig1.png)"
      ]
    },
    {
      "metadata": {
        "id": "B7fjGIEKsn8X",
        "colab_type": "text"
      },
      "cell_type": "markdown",
      "source": [
        "###  Initially a CNN network was made with 6 layers within them Relu activations were taken into account, the use of Batch Normalization in order to normalize the input layer by adjusting and scaling the activations. Also dropuot 0.2 to avoid overfitting with a total of 4,734,424 pararametros.\n",
        "### The optimizer used was SGD with a learning rate of 0.0001"
      ]
    },
    {
      "metadata": {
        "id": "_Zp3W1whkegs",
        "colab_type": "code",
        "colab": {
          "base_uri": "https://localhost:8080/",
          "height": 782
        },
        "outputId": "78f38482-b8f2-4699-c1b0-3b9925cdf0ef"
      },
      "cell_type": "code",
      "source": [
        "import numpy as np\n",
        "import pandas as pd\n",
        "import matplotlib.pyplot as plt\n",
        "%matplotlib inline\n",
        "from keras.datasets import mnist\n",
        "from keras.models import Sequential\n",
        "from keras.layers import Dense, Dropout, Activation, Flatten\n",
        "from keras.optimizers import Adam\n",
        "from keras.layers.normalization import BatchNormalization\n",
        "from keras.utils import np_utils\n",
        "from keras.layers import Conv1D, MaxPooling2D, ZeroPadding2D, GlobalAveragePooling2D\n",
        "from keras.layers.advanced_activations import LeakyReLU \n",
        "from keras.preprocessing.image import ImageDataGenerator\n",
        "\n",
        "\n",
        "outputClasses = 24\n",
        "\n",
        "model = Sequential()\n",
        "model.add(Conv1D(32,32, input_shape=(256,160)))\n",
        "model.add(BatchNormalization(axis=-1))\n",
        "model.add(Activation('relu'))\n",
        "model.add(Conv1D(32, 32))\n",
        "model.add(BatchNormalization(axis=-1))\n",
        "model.add(Activation('relu'))\n",
        "\n",
        "model.add(Conv1D(64,32))\n",
        "model.add(BatchNormalization(axis=-1))\n",
        "model.add(Activation('relu'))\n",
        "model.add(Conv1D(64,32))\n",
        "model.add(BatchNormalization(axis=-1))\n",
        "model.add(Activation('relu'))\n",
        "\n",
        "model.add(Flatten())\n",
        "\n",
        "# Fully connected layer\n",
        "model.add(Dense(512))\n",
        "model.add(BatchNormalization())\n",
        "model.add(Activation('relu'))\n",
        "model.add(Dropout(0.2))\n",
        "model.add(Dense(outputClasses))\n",
        "\n",
        "model.add(Activation('sigmoid'))\n",
        "model.summary()"
      ],
      "execution_count": 0,
      "outputs": [
        {
          "output_type": "stream",
          "text": [
            "_________________________________________________________________\n",
            "Layer (type)                 Output Shape              Param #   \n",
            "=================================================================\n",
            "conv1d_1 (Conv1D)            (None, 225, 32)           163872    \n",
            "_________________________________________________________________\n",
            "batch_normalization_1 (Batch (None, 225, 32)           128       \n",
            "_________________________________________________________________\n",
            "activation_1 (Activation)    (None, 225, 32)           0         \n",
            "_________________________________________________________________\n",
            "conv1d_2 (Conv1D)            (None, 194, 32)           32800     \n",
            "_________________________________________________________________\n",
            "batch_normalization_2 (Batch (None, 194, 32)           128       \n",
            "_________________________________________________________________\n",
            "activation_2 (Activation)    (None, 194, 32)           0         \n",
            "_________________________________________________________________\n",
            "conv1d_3 (Conv1D)            (None, 163, 64)           65600     \n",
            "_________________________________________________________________\n",
            "batch_normalization_3 (Batch (None, 163, 64)           256       \n",
            "_________________________________________________________________\n",
            "activation_3 (Activation)    (None, 163, 64)           0         \n",
            "_________________________________________________________________\n",
            "conv1d_4 (Conv1D)            (None, 132, 64)           131136    \n",
            "_________________________________________________________________\n",
            "batch_normalization_4 (Batch (None, 132, 64)           256       \n",
            "_________________________________________________________________\n",
            "activation_4 (Activation)    (None, 132, 64)           0         \n",
            "_________________________________________________________________\n",
            "flatten_1 (Flatten)          (None, 8448)              0         \n",
            "_________________________________________________________________\n",
            "dense_1 (Dense)              (None, 512)               4325888   \n",
            "_________________________________________________________________\n",
            "batch_normalization_5 (Batch (None, 512)               2048      \n",
            "_________________________________________________________________\n",
            "activation_5 (Activation)    (None, 512)               0         \n",
            "_________________________________________________________________\n",
            "dropout_1 (Dropout)          (None, 512)               0         \n",
            "_________________________________________________________________\n",
            "dense_2 (Dense)              (None, 24)                12312     \n",
            "_________________________________________________________________\n",
            "activation_6 (Activation)    (None, 24)                0         \n",
            "=================================================================\n",
            "Total params: 4,734,424\n",
            "Trainable params: 4,733,016\n",
            "Non-trainable params: 1,408\n",
            "_________________________________________________________________\n"
          ],
          "name": "stdout"
        }
      ]
    },
    {
      "metadata": {
        "id": "WFW83fy8kt88",
        "colab_type": "code",
        "colab": {}
      },
      "cell_type": "code",
      "source": [
        "from keras.optimizers import adam\n",
        "from keras.optimizers import SGD\n",
        "from keras.optimizers import adamax\n",
        "from keras.optimizers import RMSprop\n",
        "from livelossplot import PlotLossesKeras\n",
        "\n",
        "#Defines optimizer.\n",
        "op = SGD(lr=0.0001)\n",
        "\n",
        "# Compile the neural network.\n",
        "model.compile(loss='categorical_crossentropy',\n",
        "             optimizer=op,\n",
        "              metrics=['accuracy'])"
      ],
      "execution_count": 0,
      "outputs": []
    },
    {
      "metadata": {
        "id": "ZwliQI8KkwtM",
        "colab_type": "code",
        "colab": {
          "base_uri": "https://localhost:8080/",
          "height": 326
        },
        "outputId": "ee4bf37a-6f4d-4125-d231-0966a2b70324"
      },
      "cell_type": "code",
      "source": [
        "batch_size = 35\n",
        "epochs = 50\n",
        "\n",
        "trainingCNN = model.fit(X_train, y_train_genres,\n",
        "                    batch_size=batch_size,\n",
        "                    epochs=epochs,\n",
        "                    verbose=2,\n",
        "                    shuffle = False, \n",
        "                    validation_data = [X_test,y_test_genres],callbacks=[PlotLossesKeras()])"
      ],
      "execution_count": 0,
      "outputs": [
        {
          "output_type": "display_data",
          "data": {
            "image/png": "[encoded data removed]",
            "text/plain": [
              "<matplotlib.figure.Figure at 0x7fd6929f0b00>"
            ]
          },
          "metadata": {
            "tags": []
          }
        }
      ]
    },
    {
      "metadata": {
        "id": "WvaHd1xbk2qk",
        "colab_type": "code",
        "colab": {}
      },
      "cell_type": "code",
      "source": [
        "model1=model.predict(X_test)"
      ],
      "execution_count": 0,
      "outputs": []
    },
    {
      "metadata": {
        "id": "MJ9bEOIhk4c5",
        "colab_type": "code",
        "colab": {}
      },
      "cell_type": "code",
      "source": [
        "from sklearn.metrics import roc_curve, auc, roc_auc_score"
      ],
      "execution_count": 0,
      "outputs": []
    },
    {
      "metadata": {
        "id": "YXL6W-H8k7XL",
        "colab_type": "code",
        "colab": {}
      },
      "cell_type": "code",
      "source": [
        "auc = roc_auc_score(y_test_genres, model1, average=\"macro\")"
      ],
      "execution_count": 0,
      "outputs": []
    },
    {
      "metadata": {
        "id": "xYcLYpdsk9No",
        "colab_type": "code",
        "colab": {
          "base_uri": "https://localhost:8080/",
          "height": 34
        },
        "outputId": "e8707723-417c-4850-a48a-7f759295bf22"
      },
      "cell_type": "code",
      "source": [
        "print(auc)"
      ],
      "execution_count": 0,
      "outputs": [
        {
          "output_type": "stream",
          "text": [
            "0.5793164558024364\n"
          ],
          "name": "stdout"
        }
      ]
    },
    {
      "metadata": {
        "id": "AaMNIIk4hPhT",
        "colab_type": "text"
      },
      "cell_type": "markdown",
      "source": [
        "## Activations, Dropout & Optimizers\n",
        "\n",
        "### Different tests are carried out where activators and optimizers are changed, in order to find the best set of options that allow improving the model."
      ]
    },
    {
      "metadata": {
        "id": "4eiFl2WehWJb",
        "colab_type": "code",
        "colab": {
          "base_uri": "https://localhost:8080/",
          "height": 816
        },
        "outputId": "ce753e95-bf90-4b51-9b9c-f8c1b41203b1"
      },
      "cell_type": "code",
      "source": [
        "outputClasses = 24\n",
        "\n",
        "model1B = Sequential()\n",
        "model1B.add(Conv1D(32,32, input_shape=(256,160)))\n",
        "model1B.add(BatchNormalization(axis=-1))\n",
        "model1B.add(Activation('elu'))\n",
        "model1B.add(Conv1D(32, 32))\n",
        "model1B.add(BatchNormalization(axis=-1))\n",
        "model1B.add(Activation('elu'))\n",
        "\n",
        "model1B.add(Conv1D(64,32))\n",
        "model1B.add(BatchNormalization(axis=-1))\n",
        "model1B.add(Activation('relu'))\n",
        "model1B.add(Conv1D(64,32))\n",
        "model1B.add(Dropout(0.5))\n",
        "model1B.add(BatchNormalization(axis=-1))\n",
        "model1B.add(Activation('relu'))\n",
        "\n",
        "model1B.add(Flatten())\n",
        "\n",
        "# Fully connected layer\n",
        "model1B.add(Dense(512))\n",
        "model1B.add(BatchNormalization())\n",
        "model1B.add(Activation('selu'))\n",
        "model1B.add(Dropout(0.5))\n",
        "model1B.add(Dense(outputClasses))\n",
        "\n",
        "model1B.add(Activation('sigmoid'))\n",
        "model1B.summary()"
      ],
      "execution_count": 0,
      "outputs": [
        {
          "output_type": "stream",
          "text": [
            "_________________________________________________________________\n",
            "Layer (type)                 Output Shape              Param #   \n",
            "=================================================================\n",
            "conv1d_30 (Conv1D)           (None, 225, 32)           163872    \n",
            "_________________________________________________________________\n",
            "batch_normalization_33 (Batc (None, 225, 32)           128       \n",
            "_________________________________________________________________\n",
            "activation_42 (Activation)   (None, 225, 32)           0         \n",
            "_________________________________________________________________\n",
            "conv1d_31 (Conv1D)           (None, 194, 32)           32800     \n",
            "_________________________________________________________________\n",
            "batch_normalization_34 (Batc (None, 194, 32)           128       \n",
            "_________________________________________________________________\n",
            "activation_43 (Activation)   (None, 194, 32)           0         \n",
            "_________________________________________________________________\n",
            "conv1d_32 (Conv1D)           (None, 163, 64)           65600     \n",
            "_________________________________________________________________\n",
            "batch_normalization_35 (Batc (None, 163, 64)           256       \n",
            "_________________________________________________________________\n",
            "activation_44 (Activation)   (None, 163, 64)           0         \n",
            "_________________________________________________________________\n",
            "conv1d_33 (Conv1D)           (None, 132, 64)           131136    \n",
            "_________________________________________________________________\n",
            "dropout_25 (Dropout)         (None, 132, 64)           0         \n",
            "_________________________________________________________________\n",
            "batch_normalization_36 (Batc (None, 132, 64)           256       \n",
            "_________________________________________________________________\n",
            "activation_45 (Activation)   (None, 132, 64)           0         \n",
            "_________________________________________________________________\n",
            "flatten_10 (Flatten)         (None, 8448)              0         \n",
            "_________________________________________________________________\n",
            "dense_32 (Dense)             (None, 512)               4325888   \n",
            "_________________________________________________________________\n",
            "batch_normalization_37 (Batc (None, 512)               2048      \n",
            "_________________________________________________________________\n",
            "activation_46 (Activation)   (None, 512)               0         \n",
            "_________________________________________________________________\n",
            "dropout_26 (Dropout)         (None, 512)               0         \n",
            "_________________________________________________________________\n",
            "dense_33 (Dense)             (None, 24)                12312     \n",
            "_________________________________________________________________\n",
            "activation_47 (Activation)   (None, 24)                0         \n",
            "=================================================================\n",
            "Total params: 4,734,424\n",
            "Trainable params: 4,733,016\n",
            "Non-trainable params: 1,408\n",
            "_________________________________________________________________\n"
          ],
          "name": "stdout"
        }
      ]
    },
    {
      "metadata": {
        "id": "f6Cx4XLlhWRV",
        "colab_type": "code",
        "colab": {}
      },
      "cell_type": "code",
      "source": [
        "from keras.optimizers import adam\n",
        "from keras.optimizers import SGD\n",
        "from keras.optimizers import adamax\n",
        "from keras.optimizers import RMSprop\n",
        "from livelossplot import PlotLossesKeras\n",
        "\n",
        "#Defines optimizer.\n",
        "op = RMSprop(lr=0.0001)\n",
        "\n",
        "# Compile the neural network.\n",
        "model1B.compile(loss='categorical_crossentropy',\n",
        "             optimizer=op,\n",
        "              metrics=['accuracy'])"
      ],
      "execution_count": 0,
      "outputs": []
    },
    {
      "metadata": {
        "id": "SxWxjOWRhWov",
        "colab_type": "code",
        "colab": {
          "base_uri": "https://localhost:8080/",
          "height": 326
        },
        "outputId": "49d4d5f6-d94a-4ed9-8a32-d656adec71f0"
      },
      "cell_type": "code",
      "source": [
        "batch_size = 35\n",
        "epochs = 50\n",
        "\n",
        "trainingCNN = model1B.fit(X_train, y_train_genres,\n",
        "                    batch_size=batch_size,\n",
        "                    epochs=epochs,\n",
        "                    verbose=2,\n",
        "                    shuffle = False, \n",
        "                    validation_data = [X_test,y_test_genres],callbacks=[PlotLossesKeras()])"
      ],
      "execution_count": 0,
      "outputs": [
        {
          "output_type": "display_data",
          "data": {
            "image/png": "[encoded data removed]",
            "text/plain": [
              "<matplotlib.figure.Figure at 0x7fd3be1e71d0>"
            ]
          },
          "metadata": {
            "tags": []
          }
        }
      ]
    },
    {
      "metadata": {
        "id": "yIe69padhWmP",
        "colab_type": "code",
        "colab": {}
      },
      "cell_type": "code",
      "source": [
        "model1B=model.predict(X_test)"
      ],
      "execution_count": 0,
      "outputs": []
    },
    {
      "metadata": {
        "id": "4AZUckMQhWjw",
        "colab_type": "code",
        "colab": {
          "base_uri": "https://localhost:8080/",
          "height": 34
        },
        "outputId": "aba74f73-ceb1-42b6-e939-be9ae269d9ba"
      },
      "cell_type": "code",
      "source": [
        "auc = roc_auc_score(y_test_genres, model1B, average=\"macro\")\n",
        "print(auc)"
      ],
      "execution_count": 0,
      "outputs": [
        {
          "output_type": "stream",
          "text": [
            "0.5793164558024364\n"
          ],
          "name": "stdout"
        }
      ]
    },
    {
      "metadata": {
        "id": "kO2Tyde3uv5a",
        "colab_type": "text"
      },
      "cell_type": "markdown",
      "source": [
        "### Transfer learning With VGG16\n",
        "\n",
        "![Image of Yaktocat](https://www.researchgate.net/publication/321829624/figure/fig2/AS:571845657481217@1513350037610/VGG16-architecture-16.ppm)\n",
        "\n",
        "###  Since VGG16 worked on color images, a transformation was made in order to work with images in grids, for this network two dense layers with sigmoid activations, a Rmsprop optimizer and a learning rate of 0.0001 were used. With this network a total of 6,566,424 parameters were obtained"
      ]
    },
    {
      "metadata": {
        "id": "MyC1lYkMsWL1",
        "colab_type": "code",
        "colab": {
          "base_uri": "https://localhost:8080/",
          "height": 102
        },
        "outputId": "63e3a7cc-4569-442a-bf54-41d00e559a62"
      },
      "cell_type": "code",
      "source": [
        "from keras.applications import VGG16\n",
        "from skimage.transform import resize\n",
        "\n",
        "vgg16 = VGG16(include_top=False, weights='imagenet')\n",
        "\n",
        "def apply_vgg_grayscale(images):\n",
        "\n",
        "    images_ = []\n",
        "    for img in tqdm(images):\n",
        "\n",
        "        # reshape\n",
        "        img = img.reshape((256, 160))\n",
        "\n",
        "        # rescale\n",
        "        img = resize(img, (160, 160), mode='reflect')\n",
        "\n",
        "        # repeat\n",
        "        img = [img] * 3\n",
        "\n",
        "        images_.append(img)\n",
        "\n",
        "\n",
        "    # To numpy array\n",
        "    images_ = np.array(images_)\n",
        "\n",
        "    # move channel to last axis\n",
        "    images_ = np.rollaxis(images_, 1, 4)\n",
        "\n",
        "    # Apply vgg\n",
        "    images_vgg = vgg16.predict(images_)\n",
        "    \n",
        "    return images_vgg\n",
        "\n",
        "images_training_vgg = apply_vgg_grayscale(images_training)\n",
        "images_training_vgg.shape\n",
        "\n",
        "images_testing_vgg = apply_vgg_grayscale(images_testing)\n",
        "images_testing_vgg.shape"
      ],
      "execution_count": 0,
      "outputs": [
        {
          "output_type": "stream",
          "text": [
            "Downloading data from https://github.com/fchollet/deep-learning-models/releases/download/v0.1/vgg16_weights_tf_dim_ordering_tf_kernels_notop.h5\n",
            "58892288/58889256 [==============================] - 2s 0us/step\n"
          ],
          "name": "stdout"
        },
        {
          "output_type": "stream",
          "text": [
            "100%|██████████| 7895/7895 [00:21<00:00, 368.76it/s]\n",
            "100%|██████████| 3383/3383 [00:08<00:00, 383.25it/s]\n"
          ],
          "name": "stderr"
        },
        {
          "output_type": "execute_result",
          "data": {
            "text/plain": [
              "(3383, 5, 5, 512)"
            ]
          },
          "metadata": {
            "tags": []
          },
          "execution_count": 24
        }
      ]
    },
    {
      "metadata": {
        "id": "GN64hRfu4lC5",
        "colab_type": "code",
        "colab": {}
      },
      "cell_type": "code",
      "source": [
        "X_train, X_test, y_train_genres, y_test_genres = train_test_split(images_training_vgg, y_genres, test_size=0.3, random_state=110)"
      ],
      "execution_count": 0,
      "outputs": []
    },
    {
      "metadata": {
        "id": "-JjXVGzq9TSp",
        "colab_type": "code",
        "colab": {
          "base_uri": "https://localhost:8080/",
          "height": 34
        },
        "outputId": "230fb7c8-c42f-45a6-b0b6-020f5838ac8d"
      },
      "cell_type": "code",
      "source": [
        "X_test.shape"
      ],
      "execution_count": 0,
      "outputs": [
        {
          "output_type": "execute_result",
          "data": {
            "text/plain": [
              "(2369, 5, 5, 512)"
            ]
          },
          "metadata": {
            "tags": []
          },
          "execution_count": 27
        }
      ]
    },
    {
      "metadata": {
        "id": "vr7T5Cx14MZn",
        "colab_type": "code",
        "colab": {
          "base_uri": "https://localhost:8080/",
          "height": 272
        },
        "outputId": "b50e49f4-ebd9-4bfc-c4f2-df321fc8dfda"
      },
      "cell_type": "code",
      "source": [
        "from keras.optimizers import RMSprop\n",
        "vgg16 = Sequential()\n",
        "vgg16.add(Flatten(input_shape=(5,5,512)))\n",
        "vgg16.add(Dense(512, activation='sigmoid'))\n",
        "vgg16.add(Dropout(0.5))\n",
        "vgg16.add(Dense(24, activation='sigmoid'))\n",
        "vgg16.compile(loss='categorical_crossentropy', optimizer=RMSprop(lr=0.0001), metrics=['accuracy'])\n",
        "vgg16.summary()"
      ],
      "execution_count": 0,
      "outputs": [
        {
          "output_type": "stream",
          "text": [
            "_________________________________________________________________\n",
            "Layer (type)                 Output Shape              Param #   \n",
            "=================================================================\n",
            "flatten_2 (Flatten)          (None, 12800)             0         \n",
            "_________________________________________________________________\n",
            "dense_3 (Dense)              (None, 512)               6554112   \n",
            "_________________________________________________________________\n",
            "dropout_2 (Dropout)          (None, 512)               0         \n",
            "_________________________________________________________________\n",
            "dense_4 (Dense)              (None, 24)                12312     \n",
            "=================================================================\n",
            "Total params: 6,566,424\n",
            "Trainable params: 6,566,424\n",
            "Non-trainable params: 0\n",
            "_________________________________________________________________\n"
          ],
          "name": "stdout"
        }
      ]
    },
    {
      "metadata": {
        "id": "cLFm4jDX88Bp",
        "colab_type": "code",
        "colab": {
          "base_uri": "https://localhost:8080/",
          "height": 343
        },
        "outputId": "72180be3-0d76-4af6-c7c3-ffc6b82dbce8"
      },
      "cell_type": "code",
      "source": [
        "vgg16.fit(X_train, y_train_genres, validation_data=[X_test, y_test_genres], epochs=50, verbose=2, callbacks=[PlotLossesKeras()])"
      ],
      "execution_count": 0,
      "outputs": [
        {
          "output_type": "display_data",
          "data": {
            "image/png": "[encoded data removed]",
            "text/plain": [
              "<matplotlib.figure.Figure at 0x7fd63f5e36a0>"
            ]
          },
          "metadata": {
            "tags": []
          }
        },
        {
          "output_type": "execute_result",
          "data": {
            "text/plain": [
              "<keras.callbacks.History at 0x7fd6a34d5588>"
            ]
          },
          "metadata": {
            "tags": []
          },
          "execution_count": 29
        }
      ]
    },
    {
      "metadata": {
        "id": "7lW97zaCBd8E",
        "colab_type": "code",
        "colab": {}
      },
      "cell_type": "code",
      "source": [
        "model2=vgg16.predict(X_test)"
      ],
      "execution_count": 0,
      "outputs": []
    },
    {
      "metadata": {
        "id": "_JlIw7EvCGzM",
        "colab_type": "code",
        "colab": {}
      },
      "cell_type": "code",
      "source": [
        "auc = roc_auc_score(y_test_genres, model2, average=\"macro\")"
      ],
      "execution_count": 0,
      "outputs": []
    },
    {
      "metadata": {
        "id": "12M34l9BCSeA",
        "colab_type": "code",
        "colab": {
          "base_uri": "https://localhost:8080/",
          "height": 34
        },
        "outputId": "30bf610b-c541-49c0-c1f6-fdb0a9655342"
      },
      "cell_type": "code",
      "source": [
        "print(auc)"
      ],
      "execution_count": 0,
      "outputs": [
        {
          "output_type": "stream",
          "text": [
            "0.6924514648666734\n"
          ],
          "name": "stdout"
        }
      ]
    },
    {
      "metadata": {
        "id": "CwnlCtvMCuRW",
        "colab_type": "code",
        "colab": {}
      },
      "cell_type": "code",
      "source": [
        "from google.colab import files\n",
        "\n",
        "\n",
        "cols = ['p_Action', 'p_Adventure', 'p_Animation', 'p_Biography', 'p_Comedy', 'p_Crime', 'p_Documentary', 'p_Drama', 'p_Family',\n",
        "        'p_Fantasy', 'p_Film-Noir', 'p_History', 'p_Horror', 'p_Music', 'p_Musical', 'p_Mystery', 'p_News', 'p_Romance',\n",
        "        'p_Sci-Fi', 'p_Short', 'p_Sport', 'p_Thriller', 'p_War', 'p_Western']\n",
        "\n",
        "y_pred_test_genres = vgg16.predict(images_testing_vgg)\n",
        "\n",
        "pd.DataFrame(y_pred_test_genres, index=dataTesting.index, columns=cols).to_csv('pred_genres_img.csv', index_label='ID')\n",
        "\n",
        "files.download('pred_genres_img.csv')"
      ],
      "execution_count": 0,
      "outputs": []
    },
    {
      "metadata": {
        "id": "WW8wPSVOdFy9",
        "colab_type": "text"
      },
      "cell_type": "markdown",
      "source": [
        "## VVG19"
      ]
    },
    {
      "metadata": {
        "id": "2oD8ihsUwsfZ",
        "colab_type": "text"
      },
      "cell_type": "markdown",
      "source": [
        "### Transfer learning With VGG19\n",
        "\n",
        "![Image of Yaktocat](https://cdn-images-1.medium.com/max/1600/1*cufAO77aeSWdShs3ba5ndg.jpeg)\n",
        "\n",
        "### Since VGG19 worked on color images, a transformation was made in order to work with images in grits, for this network we used two dense layers with sigmoid activations, an Rmsprop optimizer and a learning rate of 0.0001. With this network a total of 6,566,424 parameters were obtained\n",
        "\n",
        "\n"
      ]
    },
    {
      "metadata": {
        "id": "ZKFNz5-ddIeC",
        "colab_type": "code",
        "colab": {
          "base_uri": "https://localhost:8080/",
          "height": 102
        },
        "outputId": "040adbff-350c-44ed-ff78-215ef44dc0f1"
      },
      "cell_type": "code",
      "source": [
        "from keras.applications import VGG19\n",
        "from skimage.transform import resize\n",
        "\n",
        "vgg19 = VGG19(include_top=False, weights='imagenet')\n",
        "\n",
        "def apply_vgg_grayscale(images):\n",
        "\n",
        "    images_ = []\n",
        "    for img in tqdm(images):\n",
        "\n",
        "        # reshape\n",
        "        img = img.reshape((256, 160))\n",
        "\n",
        "        # rescale\n",
        "        img = resize(img, (160, 160), mode='reflect')\n",
        "\n",
        "        # repeat\n",
        "        img = [img] * 3\n",
        "\n",
        "        images_.append(img)\n",
        "\n",
        "\n",
        "    # To numpy array\n",
        "    images_ = np.array(images_)\n",
        "\n",
        "    # move channel to last axis\n",
        "    images_ = np.rollaxis(images_, 1, 4)\n",
        "\n",
        "    # Apply vgg\n",
        "    images_vgg19 = vgg19.predict(images_)\n",
        "    \n",
        "    return images_vgg19\n",
        "\n",
        "images_training_vgg19 = apply_vgg_grayscale(images_training)\n",
        "images_training_vgg19.shape\n",
        "\n",
        "images_testing_vgg19 = apply_vgg_grayscale(images_testing)\n",
        "images_testing_vgg19.shape"
      ],
      "execution_count": 0,
      "outputs": [
        {
          "output_type": "stream",
          "text": [
            "Downloading data from https://github.com/fchollet/deep-learning-models/releases/download/v0.1/vgg19_weights_tf_dim_ordering_tf_kernels_notop.h5\n",
            "80142336/80134624 [==============================] - 1s 0us/step\n"
          ],
          "name": "stdout"
        },
        {
          "output_type": "stream",
          "text": [
            "100%|██████████| 7895/7895 [01:20<00:00, 98.02it/s]\n",
            "100%|██████████| 3383/3383 [00:09<00:00, 351.75it/s]\n"
          ],
          "name": "stderr"
        },
        {
          "output_type": "execute_result",
          "data": {
            "text/plain": [
              "(3383, 5, 5, 512)"
            ]
          },
          "metadata": {
            "tags": []
          },
          "execution_count": 83
        }
      ]
    },
    {
      "metadata": {
        "id": "kOxoz9WPdIv9",
        "colab_type": "code",
        "colab": {}
      },
      "cell_type": "code",
      "source": [
        "X_train19, X_test19, y_train_genres19, y_test_genres19 = train_test_split(images_training_vgg19, y_genres, test_size=0.3, random_state=110)"
      ],
      "execution_count": 0,
      "outputs": []
    },
    {
      "metadata": {
        "id": "oHq6MUjEdI1j",
        "colab_type": "code",
        "colab": {
          "base_uri": "https://localhost:8080/",
          "height": 34
        },
        "outputId": "07fb943e-907b-4e71-ed40-bee93e35cd0c"
      },
      "cell_type": "code",
      "source": [
        "X_test19.shape"
      ],
      "execution_count": 0,
      "outputs": [
        {
          "output_type": "execute_result",
          "data": {
            "text/plain": [
              "(2369, 5, 5, 512)"
            ]
          },
          "metadata": {
            "tags": []
          },
          "execution_count": 86
        }
      ]
    },
    {
      "metadata": {
        "id": "LDxtUmtAdI92",
        "colab_type": "code",
        "colab": {
          "base_uri": "https://localhost:8080/",
          "height": 272
        },
        "outputId": "8a36fa56-ef38-44be-f3a0-69cc0ddb5fe1"
      },
      "cell_type": "code",
      "source": [
        "from keras.optimizers import RMSprop\n",
        "vgg19 = Sequential()\n",
        "vgg19.add(Flatten(input_shape=(5,5,512)))\n",
        "vgg19.add(Dense(512, activation='sigmoid'))\n",
        "vgg19.add(Dropout(0.5))\n",
        "vgg19.add(Dense(24, activation='sigmoid'))\n",
        "vgg19.compile(loss='categorical_crossentropy', optimizer=RMSprop(lr=0.0001), metrics=['accuracy'])\n",
        "vgg19.summary()"
      ],
      "execution_count": 0,
      "outputs": [
        {
          "output_type": "stream",
          "text": [
            "_________________________________________________________________\n",
            "Layer (type)                 Output Shape              Param #   \n",
            "=================================================================\n",
            "flatten_4 (Flatten)          (None, 12800)             0         \n",
            "_________________________________________________________________\n",
            "dense_19 (Dense)             (None, 512)               6554112   \n",
            "_________________________________________________________________\n",
            "dropout_17 (Dropout)         (None, 512)               0         \n",
            "_________________________________________________________________\n",
            "dense_20 (Dense)             (None, 24)                12312     \n",
            "=================================================================\n",
            "Total params: 6,566,424\n",
            "Trainable params: 6,566,424\n",
            "Non-trainable params: 0\n",
            "_________________________________________________________________\n"
          ],
          "name": "stdout"
        }
      ]
    },
    {
      "metadata": {
        "id": "8lHMsp9UdJIJ",
        "colab_type": "code",
        "colab": {
          "base_uri": "https://localhost:8080/",
          "height": 343
        },
        "outputId": "36d3c9bd-b86d-4e8e-c9e5-303ccfb007c7"
      },
      "cell_type": "code",
      "source": [
        "vgg19.fit(X_train19, y_train_genres19, validation_data=[X_test19, y_test_genres19], epochs=50, verbose=2, callbacks=[PlotLossesKeras()])"
      ],
      "execution_count": 0,
      "outputs": [
        {
          "output_type": "display_data",
          "data": {
            "image/png": "[encoded data removed]",
            "text/plain": [
              "<matplotlib.figure.Figure at 0x7fd4e8fe29e8>"
            ]
          },
          "metadata": {
            "tags": []
          }
        },
        {
          "output_type": "execute_result",
          "data": {
            "text/plain": [
              "<keras.callbacks.History at 0x7fd4e9a30240>"
            ]
          },
          "metadata": {
            "tags": []
          },
          "execution_count": 88
        }
      ]
    },
    {
      "metadata": {
        "id": "Olq3p-nRdJGA",
        "colab_type": "code",
        "colab": {}
      },
      "cell_type": "code",
      "source": [
        "model19=vgg19.predict(X_test19)"
      ],
      "execution_count": 0,
      "outputs": []
    },
    {
      "metadata": {
        "id": "yPLMJE9GdJDS",
        "colab_type": "code",
        "colab": {}
      },
      "cell_type": "code",
      "source": [
        "auc = roc_auc_score(y_test_genres, model19, average=\"macro\")"
      ],
      "execution_count": 0,
      "outputs": []
    },
    {
      "metadata": {
        "id": "zsSbWo1RdJBB",
        "colab_type": "code",
        "colab": {
          "base_uri": "https://localhost:8080/",
          "height": 34
        },
        "outputId": "2ec70bb4-78a8-4d2e-bff3-501a95f0ddea"
      },
      "cell_type": "code",
      "source": [
        "print(auc)"
      ],
      "execution_count": 0,
      "outputs": [
        {
          "output_type": "stream",
          "text": [
            "0.6765073548680146\n"
          ],
          "name": "stdout"
        }
      ]
    },
    {
      "metadata": {
        "id": "H6lAh2Cjnu94",
        "colab_type": "text"
      },
      "cell_type": "markdown",
      "source": [
        "#  Text Classification\n",
        "\n",
        "###  For this part two processes are carried out in order to train the model one is by means of the transformation of the information of the synopsis creating a vector with the counting of the words, limiting the quantity of characteristics, modifying the n-grams, changing the lowercase words and quintando the Stop Words placing, for the second method a vocabulary and a maximum number of words that are going to enter inside the network are created and this is the information that enters inside the embedding of the LSTM."
      ]
    },
    {
      "metadata": {
        "id": "mZiT-AFFny8R",
        "colab_type": "code",
        "colab": {
          "base_uri": "https://localhost:8080/",
          "height": 34
        },
        "outputId": "8c6121e4-3b24-460a-b4eb-bfa35aaceb56"
      },
      "cell_type": "code",
      "source": [
        "Xtraintext = dataTraining['plot']\n",
        "Xtrainname = dataTraining['title']\n",
        "\n",
        "Xtesttext = dataTesting['plot']\n",
        "Xtestname = dataTesting['title']\n",
        "Xtraintext.shape\n",
        "dataTraining['genres'].shape"
      ],
      "execution_count": 0,
      "outputs": [
        {
          "output_type": "execute_result",
          "data": {
            "text/plain": [
              "(7895,)"
            ]
          },
          "metadata": {
            "tags": []
          },
          "execution_count": 33
        }
      ]
    },
    {
      "metadata": {
        "id": "JgXvCIL2sfRE",
        "colab_type": "code",
        "colab": {}
      },
      "cell_type": "code",
      "source": [
        "from sklearn.feature_extraction.text import CountVectorizer, TfidfVectorizer\n",
        "vect = CountVectorizer(max_features=1000,ngram_range =(1,3),lowercase=True,stop_words='english')\n",
        "X_dtm_text = vect.fit_transform(Xtraintext)\n",
        "X_dtm_name = vect.fit_transform(Xtrainname)\n",
        "Y_dtm_text = vect.fit_transform(Xtesttext)\n",
        "Y_dtm_name = vect.fit_transform(Xtestname)\n",
        "\n",
        "le = MultiLabelBinarizer()\n",
        "y_genres_2 = le.fit_transform(dataTraining['genres'])"
      ],
      "execution_count": 0,
      "outputs": []
    },
    {
      "metadata": {
        "id": "Nrz6B0JK1bmN",
        "colab_type": "code",
        "colab": {
          "base_uri": "https://localhost:8080/",
          "height": 34
        },
        "outputId": "5e6d7fee-9e31-48c0-84cc-925a9cc515e8"
      },
      "cell_type": "code",
      "source": [
        "X_dtm_name.shape"
      ],
      "execution_count": 0,
      "outputs": [
        {
          "output_type": "execute_result",
          "data": {
            "text/plain": [
              "(7895, 1000)"
            ]
          },
          "metadata": {
            "tags": []
          },
          "execution_count": 35
        }
      ]
    },
    {
      "metadata": {
        "id": "l7Yotuhe1h8l",
        "colab_type": "code",
        "colab": {
          "base_uri": "https://localhost:8080/",
          "height": 34
        },
        "outputId": "9c488e49-2db7-432a-cea7-94b6f3236073"
      },
      "cell_type": "code",
      "source": [
        "y_genres_2.shape"
      ],
      "execution_count": 0,
      "outputs": [
        {
          "output_type": "execute_result",
          "data": {
            "text/plain": [
              "(7895, 24)"
            ]
          },
          "metadata": {
            "tags": []
          },
          "execution_count": 36
        }
      ]
    },
    {
      "metadata": {
        "id": "EgjORlRZsAxf",
        "colab_type": "code",
        "colab": {}
      },
      "cell_type": "code",
      "source": [
        "X_train_text, X_test_text, y_train_genres_text, y_test_genres_text = train_test_split(X_dtm_text, y_genres_2, test_size=0.3, random_state=110)\n",
        "X_train_name, X_test_name, y_train_genres_name, y_test_genres_name = train_test_split(X_dtm_name, y_genres_2, test_size=0.3, random_state=110)"
      ],
      "execution_count": 0,
      "outputs": []
    },
    {
      "metadata": {
        "id": "uNTqTodSzaiw",
        "colab_type": "text"
      },
      "cell_type": "markdown",
      "source": [
        " # CNN  for Text\n",
        " \n",
        "\n",
        " \n",
        " \n",
        "![Image of Yaktocat]( https://richliao.github.io/images/YoonKim_ConvtextClassifier.png)\n",
        "\n",
        "\n",
        "### This network has the following characteristics three dense layers with hypogenetic tangent activations, softmax, with two DropOuts of 0.5 and Rmsprop optimizer with learning rate of 0.0001\n",
        "\n"
      ]
    },
    {
      "metadata": {
        "id": "1V6164-Hs4cA",
        "colab_type": "code",
        "colab": {
          "base_uri": "https://localhost:8080/",
          "height": 476
        },
        "outputId": "5caf20a9-9dc5-438d-9433-2754ae8bf219"
      },
      "cell_type": "code",
      "source": [
        "from keras.layers.recurrent import LSTM\n",
        "model_text = Sequential()\n",
        "\n",
        "model_text.add(Dense(128, input_shape=(1000,)))\n",
        "model_text.add(Activation('tanh'))\n",
        "model_text.add(BatchNormalization())\n",
        "model_text.add(Dropout(0.5))\n",
        "\n",
        "model_text.add(Dense(128))\n",
        "model_text.add(Activation('softmax'))\n",
        "model_text.add(BatchNormalization())\n",
        "model_text.add(Dropout(0.5))\n",
        "\n",
        "model_text.add(Dense(24))\n",
        "model_text.add(Activation('sigmoid'))\n",
        "\n",
        "\n",
        "model_text.compile(loss='categorical_crossentropy', optimizer=RMSprop(lr=0.0001), metrics=['accuracy'])\n",
        "model_text.summary()"
      ],
      "execution_count": 0,
      "outputs": [
        {
          "output_type": "stream",
          "text": [
            "_________________________________________________________________\n",
            "Layer (type)                 Output Shape              Param #   \n",
            "=================================================================\n",
            "dense_5 (Dense)              (None, 128)               128128    \n",
            "_________________________________________________________________\n",
            "activation_7 (Activation)    (None, 128)               0         \n",
            "_________________________________________________________________\n",
            "batch_normalization_6 (Batch (None, 128)               512       \n",
            "_________________________________________________________________\n",
            "dropout_3 (Dropout)          (None, 128)               0         \n",
            "_________________________________________________________________\n",
            "dense_6 (Dense)              (None, 128)               16512     \n",
            "_________________________________________________________________\n",
            "activation_8 (Activation)    (None, 128)               0         \n",
            "_________________________________________________________________\n",
            "batch_normalization_7 (Batch (None, 128)               512       \n",
            "_________________________________________________________________\n",
            "dropout_4 (Dropout)          (None, 128)               0         \n",
            "_________________________________________________________________\n",
            "dense_7 (Dense)              (None, 24)                3096      \n",
            "_________________________________________________________________\n",
            "activation_9 (Activation)    (None, 24)                0         \n",
            "=================================================================\n",
            "Total params: 148,760\n",
            "Trainable params: 148,248\n",
            "Non-trainable params: 512\n",
            "_________________________________________________________________\n"
          ],
          "name": "stdout"
        }
      ]
    },
    {
      "metadata": {
        "id": "jqJYmfe2s4ts",
        "colab_type": "code",
        "colab": {
          "base_uri": "https://localhost:8080/",
          "height": 343
        },
        "outputId": "9d7c77c7-b158-4a3c-bee0-f4605b221461"
      },
      "cell_type": "code",
      "source": [
        "model_text.fit(X_train_name, y_train_genres_name, validation_data=[X_test_text, y_test_genres_text], epochs=50, verbose=2, callbacks=[PlotLossesKeras()])"
      ],
      "execution_count": 0,
      "outputs": [
        {
          "output_type": "display_data",
          "data": {
            "image/png": "[encoded data removed]",
            "text/plain": [
              "<matplotlib.figure.Figure at 0x7fd4ed24f780>"
            ]
          },
          "metadata": {
            "tags": []
          }
        },
        {
          "output_type": "execute_result",
          "data": {
            "text/plain": [
              "<keras.callbacks.History at 0x7fd4f280bda0>"
            ]
          },
          "metadata": {
            "tags": []
          },
          "execution_count": 39
        }
      ]
    },
    {
      "metadata": {
        "id": "nykg36XuwJAo",
        "colab_type": "code",
        "colab": {}
      },
      "cell_type": "code",
      "source": [
        "model3=model_text.predict(X_test_name)"
      ],
      "execution_count": 0,
      "outputs": []
    },
    {
      "metadata": {
        "id": "gNj86Pb485Sx",
        "colab_type": "code",
        "colab": {}
      },
      "cell_type": "code",
      "source": [
        "auc = roc_auc_score(y_test_genres_name, model3, average=\"macro\")"
      ],
      "execution_count": 0,
      "outputs": []
    },
    {
      "metadata": {
        "id": "WMoXf3VA85ip",
        "colab_type": "code",
        "colab": {
          "base_uri": "https://localhost:8080/",
          "height": 34
        },
        "outputId": "204fa8b2-3536-4001-a9d6-50c61e8df488"
      },
      "cell_type": "code",
      "source": [
        "print(auc)"
      ],
      "execution_count": 0,
      "outputs": [
        {
          "output_type": "stream",
          "text": [
            "0.5923461361103824\n"
          ],
          "name": "stdout"
        }
      ]
    },
    {
      "metadata": {
        "id": "VcbZewiwwJOd",
        "colab_type": "code",
        "colab": {}
      },
      "cell_type": "code",
      "source": [
        "from google.colab import files\n",
        "\n",
        "\n",
        "cols = ['p_Action', 'p_Adventure', 'p_Animation', 'p_Biography', 'p_Comedy', 'p_Crime', 'p_Documentary', 'p_Drama', 'p_Family',\n",
        "        'p_Fantasy', 'p_Film-Noir', 'p_History', 'p_Horror', 'p_Music', 'p_Musical', 'p_Mystery', 'p_News', 'p_Romance',\n",
        "        'p_Sci-Fi', 'p_Short', 'p_Sport', 'p_Thriller', 'p_War', 'p_Western']\n",
        "\n",
        "y_pred_test_genres = model_text.predict(Y_dtm_name)\n",
        "\n",
        "pd.DataFrame(y_pred_test_genres, index=dataTesting.index, columns=cols).to_csv('pred_genres_img.csv', index_label='ID')\n",
        "\n",
        "files.download('pred_genres_img.csv')"
      ],
      "execution_count": 0,
      "outputs": []
    },
    {
      "metadata": {
        "id": "LFpZDdtbHuJ6",
        "colab_type": "text"
      },
      "cell_type": "markdown",
      "source": [
        "# LSTM\n",
        "\n",
        " \n",
        "![Image of Yaktocat]( https://skymind.ai/images/wiki/greff_lstm_diagram.png)\n",
        "\n",
        "\n",
        "### This network has the following characteristics, a dense layer with sigmoid activations, with two DropOuts of 0.5 and Rmsprop optimizer with learning rate of 0.00001\n"
      ]
    },
    {
      "metadata": {
        "id": "DCH4qCtJHxZJ",
        "colab_type": "code",
        "colab": {}
      },
      "cell_type": "code",
      "source": [
        "from keras.layers import LSTM\n",
        "from keras.layers.embeddings import Embedding\n",
        "from keras.preprocessing import sequence\n"
      ],
      "execution_count": 0,
      "outputs": []
    },
    {
      "metadata": {
        "id": "7CpbDggULe-T",
        "colab_type": "code",
        "colab": {
          "base_uri": "https://localhost:8080/",
          "height": 34
        },
        "outputId": "48c0d148-e887-4af2-c35d-db0a721f419c"
      },
      "cell_type": "code",
      "source": [
        "import tensorflow as tf\n",
        "sess = tf.Session(config=tf.ConfigProto(log_device_placement=True))\n",
        "import keras\n",
        "from keras import backend as K\n",
        "print(K.tensorflow_backend._get_available_gpus())"
      ],
      "execution_count": 0,
      "outputs": [
        {
          "output_type": "stream",
          "text": [
            "['/job:localhost/replica:0/task:0/device:GPU:0']\n"
          ],
          "name": "stdout"
        }
      ]
    },
    {
      "metadata": {
        "id": "Oqga51SZHxj6",
        "colab_type": "code",
        "colab": {}
      },
      "cell_type": "code",
      "source": [
        "X = dataTraining['plot'].tolist()"
      ],
      "execution_count": 0,
      "outputs": []
    },
    {
      "metadata": {
        "id": "pCxhYiS_Hxnk",
        "colab_type": "code",
        "colab": {}
      },
      "cell_type": "code",
      "source": [
        "voc = set(''.join(X))\n",
        "vocabulary = {x: idx + 1 for idx, x in enumerate(set(voc))}"
      ],
      "execution_count": 0,
      "outputs": []
    },
    {
      "metadata": {
        "id": "FkOy3GfMLzB5",
        "colab_type": "code",
        "colab": {}
      },
      "cell_type": "code",
      "source": [
        "# Max len\n",
        "max_plot_len = 150\n",
        "X = [x[:max_plot_len] for x in X]\n",
        "# Convert characters to int and pad\n",
        "X = [[vocabulary[x1] for x1 in x if x1 in vocabulary.keys()] for x in X]"
      ],
      "execution_count": 0,
      "outputs": []
    },
    {
      "metadata": {
        "id": "hvx5wTBuL_Wx",
        "colab_type": "code",
        "colab": {
          "base_uri": "https://localhost:8080/",
          "height": 34
        },
        "outputId": "8e1e249f-a5dd-45cb-f4a1-9dc220cda6d7"
      },
      "cell_type": "code",
      "source": [
        "len(X)"
      ],
      "execution_count": 0,
      "outputs": [
        {
          "output_type": "execute_result",
          "data": {
            "text/plain": [
              "7895"
            ]
          },
          "metadata": {
            "tags": []
          },
          "execution_count": 48
        }
      ]
    },
    {
      "metadata": {
        "id": "qTDB-vy-MER7",
        "colab_type": "code",
        "colab": {}
      },
      "cell_type": "code",
      "source": [
        "X_pad = sequence.pad_sequences(X, maxlen=max_plot_len)"
      ],
      "execution_count": 0,
      "outputs": []
    },
    {
      "metadata": {
        "id": "9utg2HL_MG-u",
        "colab_type": "code",
        "colab": {
          "base_uri": "https://localhost:8080/",
          "height": 136
        },
        "outputId": "55db80c4-5402-405c-a853-1e381786c632"
      },
      "cell_type": "code",
      "source": [
        "  X_pad"
      ],
      "execution_count": 0,
      "outputs": [
        {
          "output_type": "execute_result",
          "data": {
            "text/plain": [
              "array([[42, 17, 47, ...,  8,  8, 62],\n",
              "       [ 0,  0,  0, ..., 49,  8, 35],\n",
              "       [31,  3,  8, ..., 31, 16,  8],\n",
              "       ...,\n",
              "       [16, 31, 49, ..., 31,  3, 14],\n",
              "       [42, 61, 47, ..., 70, 15,  6],\n",
              "       [ 0,  0,  0, ...,  6,  8, 35]], dtype=int32)"
            ]
          },
          "metadata": {
            "tags": []
          },
          "execution_count": 50
        }
      ]
    },
    {
      "metadata": {
        "id": "fsTG3c_eMO5l",
        "colab_type": "code",
        "colab": {}
      },
      "cell_type": "code",
      "source": [
        "X_train, X_test, y_train, y_test = train_test_split(X_pad, y_genres_2, test_size=0.33, random_state=110)"
      ],
      "execution_count": 0,
      "outputs": []
    },
    {
      "metadata": {
        "id": "fUUXdAT8MdMD",
        "colab_type": "code",
        "colab": {
          "base_uri": "https://localhost:8080/",
          "height": 272
        },
        "outputId": "42de92fd-bb81-44ae-8a85-798b690def75"
      },
      "cell_type": "code",
      "source": [
        "model_text_2 = Sequential()\n",
        "model_text_2.add(Embedding(len(vocabulary) + 1, 128, input_length=max_plot_len))\n",
        "model_text_2.add(LSTM(64))\n",
        "model_text_2.add(Dropout(0.5))\n",
        "model_text_2.add(Dense(24, activation='sigmoid'))\n",
        "model_text_2.compile(loss='categorical_crossentropy', optimizer=RMSprop(lr=0.00001), metrics=['accuracy'])\n",
        "\n",
        "model_text_2.summary() "
      ],
      "execution_count": 0,
      "outputs": [
        {
          "output_type": "stream",
          "text": [
            "_________________________________________________________________\n",
            "Layer (type)                 Output Shape              Param #   \n",
            "=================================================================\n",
            "embedding_6 (Embedding)      (None, 150, 128)          9600      \n",
            "_________________________________________________________________\n",
            "lstm_6 (LSTM)                (None, 64)                49408     \n",
            "_________________________________________________________________\n",
            "dropout_10 (Dropout)         (None, 64)                0         \n",
            "_________________________________________________________________\n",
            "dense_13 (Dense)             (None, 24)                1560      \n",
            "=================================================================\n",
            "Total params: 60,568\n",
            "Trainable params: 60,568\n",
            "Non-trainable params: 0\n",
            "_________________________________________________________________\n"
          ],
          "name": "stdout"
        }
      ]
    },
    {
      "metadata": {
        "id": "VdFpco6iMl6r",
        "colab_type": "code",
        "colab": {
          "base_uri": "https://localhost:8080/",
          "height": 343
        },
        "outputId": "071942cb-c198-4104-b4b3-470d522ace11"
      },
      "cell_type": "code",
      "source": [
        "model_text_2.fit(X_train, y_train, validation_data=[X_test, y_test], \n",
        "          batch_size=100, epochs=50, verbose=1,\n",
        "          callbacks=[PlotLossesKeras()])"
      ],
      "execution_count": 0,
      "outputs": [
        {
          "output_type": "display_data",
          "data": {
            "image/png": "[encoded data removed]",
            "text/plain": [
              "<matplotlib.figure.Figure at 0x7fd4ee29c550>"
            ]
          },
          "metadata": {
            "tags": []
          }
        },
        {
          "output_type": "execute_result",
          "data": {
            "text/plain": [
              "<keras.callbacks.History at 0x7fd4eeb479e8>"
            ]
          },
          "metadata": {
            "tags": []
          },
          "execution_count": 66
        }
      ]
    },
    {
      "metadata": {
        "id": "KqTMl4llHv7q",
        "colab_type": "code",
        "colab": {}
      },
      "cell_type": "code",
      "source": [
        "model4=model_text_2.predict(X_test)"
      ],
      "execution_count": 0,
      "outputs": []
    },
    {
      "metadata": {
        "id": "fZvPSUoNwTdW",
        "colab_type": "code",
        "colab": {
          "base_uri": "https://localhost:8080/",
          "height": 34
        },
        "outputId": "7bcec640-1581-4ea2-9fa3-bf9a548e0cf3"
      },
      "cell_type": "code",
      "source": [
        "auc = roc_auc_score(y_test, model4, average=\"macro\")\n",
        "print(auc)"
      ],
      "execution_count": 0,
      "outputs": [
        {
          "output_type": "stream",
          "text": [
            "0.5088667856082103\n"
          ],
          "name": "stdout"
        }
      ]
    },
    {
      "metadata": {
        "id": "_XlywtmL-E9X",
        "colab_type": "text"
      },
      "cell_type": "markdown",
      "source": [
        "## Model 5 Text\n",
        "\n",
        "### A change to the model is made, including Conv1D with activation Relu, Dropout 0.5, MaxPooling1D pool_size 2 and optimizer adam"
      ]
    },
    {
      "metadata": {
        "id": "EQL6ilKp-IKP",
        "colab_type": "code",
        "colab": {
          "base_uri": "https://localhost:8080/",
          "height": 357
        },
        "outputId": "80d701c6-47e1-4927-b37d-56a37f724afc"
      },
      "cell_type": "code",
      "source": [
        "from keras.layers.convolutional import Conv1D\n",
        "from keras.layers.convolutional import MaxPooling1D\n",
        "model_text_3 = Sequential()\n",
        "model_text_3.add(Embedding(len(vocabulary) + 1, 128, input_length=max_plot_len))\n",
        "model_text_3.add(Conv1D(filters=32, kernel_size=3, padding='same', activation='relu'))\n",
        "model_text_3.add(Dropout(0.5))\n",
        "model_text_3.add(MaxPooling1D(pool_size=2))\n",
        "model_text_3.add(LSTM(128))\n",
        "model_text_3.add(Dense(24, activation='sigmoid'))\n",
        "model_text_3.compile(loss='categorical_crossentropy', optimizer='adam', metrics=['accuracy'])\n",
        "print(model_text_3.summary())\n"
      ],
      "execution_count": 0,
      "outputs": [
        {
          "output_type": "stream",
          "text": [
            "_________________________________________________________________\n",
            "Layer (type)                 Output Shape              Param #   \n",
            "=================================================================\n",
            "embedding_11 (Embedding)     (None, 150, 128)          9600      \n",
            "_________________________________________________________________\n",
            "conv1d_9 (Conv1D)            (None, 150, 32)           12320     \n",
            "_________________________________________________________________\n",
            "dropout_18 (Dropout)         (None, 150, 32)           0         \n",
            "_________________________________________________________________\n",
            "max_pooling1d_5 (MaxPooling1 (None, 75, 32)            0         \n",
            "_________________________________________________________________\n",
            "lstm_11 (LSTM)               (None, 128)               82432     \n",
            "_________________________________________________________________\n",
            "dense_21 (Dense)             (None, 24)                3096      \n",
            "=================================================================\n",
            "Total params: 107,448\n",
            "Trainable params: 107,448\n",
            "Non-trainable params: 0\n",
            "_________________________________________________________________\n",
            "None\n"
          ],
          "name": "stdout"
        }
      ]
    },
    {
      "metadata": {
        "id": "VgLXohm1-jdT",
        "colab_type": "code",
        "colab": {
          "base_uri": "https://localhost:8080/",
          "height": 343
        },
        "outputId": "3b740b67-b44b-467b-e834-bdbf0ff641d9"
      },
      "cell_type": "code",
      "source": [
        "model_text_3.fit(X_train, y_train, validation_data=[X_test, y_test], \n",
        "          batch_size=128, epochs=50, verbose=1,\n",
        "          callbacks=[PlotLossesKeras()])"
      ],
      "execution_count": 0,
      "outputs": [
        {
          "output_type": "display_data",
          "data": {
            "image/png": "[encoded data removed]",
            "text/plain": [
              "<matplotlib.figure.Figure at 0x7fd3c5c4ffd0>"
            ]
          },
          "metadata": {
            "tags": []
          }
        },
        {
          "output_type": "execute_result",
          "data": {
            "text/plain": [
              "<keras.callbacks.History at 0x7fd4e91ae208>"
            ]
          },
          "metadata": {
            "tags": []
          },
          "execution_count": 94
        }
      ]
    },
    {
      "metadata": {
        "id": "mWsyfeyZE4GS",
        "colab_type": "code",
        "colab": {}
      },
      "cell_type": "code",
      "source": [
        "model5=model_text_3.predict(X_test)"
      ],
      "execution_count": 0,
      "outputs": []
    },
    {
      "metadata": {
        "id": "BOzK-7WV_Mks",
        "colab_type": "code",
        "colab": {
          "base_uri": "https://localhost:8080/",
          "height": 34
        },
        "outputId": "810ca186-bd25-409a-9faf-245de733c0e0"
      },
      "cell_type": "code",
      "source": [
        "auc = roc_auc_score(y_test, model5, average=\"macro\")\n",
        "print(auc)"
      ],
      "execution_count": 0,
      "outputs": [
        {
          "output_type": "stream",
          "text": [
            "0.5061839471966222\n"
          ],
          "name": "stdout"
        }
      ]
    },
    {
      "metadata": {
        "id": "erNhRw5HY2h7",
        "colab_type": "text"
      },
      "cell_type": "markdown",
      "source": [
        "## Model 6 Text\n",
        "\n",
        "#### A change is made to the model, including Conv1D with activation Relu, Dropout 0.5, MaxPooling1D pool_size 2, a dense layer and tested with different activations along with different optimizers being adam with the best performance"
      ]
    },
    {
      "metadata": {
        "id": "u2Ex5D_kY0Yl",
        "colab_type": "code",
        "colab": {
          "base_uri": "https://localhost:8080/",
          "height": 459
        },
        "outputId": "bf375b76-7b34-4d42-e7e4-ecad6f4d0100"
      },
      "cell_type": "code",
      "source": [
        "from keras.layers.convolutional import Conv1D\n",
        "from keras.layers.convolutional import MaxPooling1D\n",
        "model_text_4 = Sequential()\n",
        "model_text_4.add(Embedding(len(vocabulary) + 1, 128, input_length=max_plot_len))\n",
        "model_text_4.add(Conv1D(filters=32, kernel_size=3, padding='same', activation='relu'))\n",
        "model_text_4.add(Dropout(0.5))\n",
        "model_text_4.add(MaxPooling1D(pool_size=2))\n",
        "model_text_4.add(LSTM(128))\n",
        "model_text_4.add(Dense(128))\n",
        "model_text_4.add(Activation('relu'))\n",
        "model_text_4.add(Dropout(0.5))\n",
        "model_text_4.add(Dense(24, activation='sigmoid'))\n",
        "model_text_4.compile(loss='categorical_crossentropy', optimizer='adam', metrics=['accuracy'])\n",
        "print(model_text_4.summary())\n"
      ],
      "execution_count": 0,
      "outputs": [
        {
          "output_type": "stream",
          "text": [
            "_________________________________________________________________\n",
            "Layer (type)                 Output Shape              Param #   \n",
            "=================================================================\n",
            "embedding_10 (Embedding)     (None, 150, 128)          9600      \n",
            "_________________________________________________________________\n",
            "conv1d_8 (Conv1D)            (None, 150, 32)           12320     \n",
            "_________________________________________________________________\n",
            "dropout_15 (Dropout)         (None, 150, 32)           0         \n",
            "_________________________________________________________________\n",
            "max_pooling1d_4 (MaxPooling1 (None, 75, 32)            0         \n",
            "_________________________________________________________________\n",
            "lstm_10 (LSTM)               (None, 128)               82432     \n",
            "_________________________________________________________________\n",
            "dense_17 (Dense)             (None, 128)               16512     \n",
            "_________________________________________________________________\n",
            "activation_11 (Activation)   (None, 128)               0         \n",
            "_________________________________________________________________\n",
            "dropout_16 (Dropout)         (None, 128)               0         \n",
            "_________________________________________________________________\n",
            "dense_18 (Dense)             (None, 24)                3096      \n",
            "=================================================================\n",
            "Total params: 123,960\n",
            "Trainable params: 123,960\n",
            "Non-trainable params: 0\n",
            "_________________________________________________________________\n",
            "None\n"
          ],
          "name": "stdout"
        }
      ]
    },
    {
      "metadata": {
        "id": "RhJZk8EbY0pW",
        "colab_type": "code",
        "colab": {
          "base_uri": "https://localhost:8080/",
          "height": 343
        },
        "outputId": "e43a1d24-21b0-428c-afb5-66b611869a6f"
      },
      "cell_type": "code",
      "source": [
        "model_text_4.fit(X_train, y_train, validation_data=[X_test, y_test], \n",
        "          batch_size=128, epochs=50, verbose=1,\n",
        "          callbacks=[PlotLossesKeras()])"
      ],
      "execution_count": 0,
      "outputs": [
        {
          "output_type": "display_data",
          "data": {
            "image/png": "[encoded data removed]",
            "text/plain": [
              "<matplotlib.figure.Figure at 0x7fd4e8c949b0>"
            ]
          },
          "metadata": {
            "tags": []
          }
        },
        {
          "output_type": "execute_result",
          "data": {
            "text/plain": [
              "<keras.callbacks.History at 0x7fd4eacff198>"
            ]
          },
          "metadata": {
            "tags": []
          },
          "execution_count": 80
        }
      ]
    },
    {
      "metadata": {
        "id": "wWmLSu1CY02b",
        "colab_type": "code",
        "colab": {}
      },
      "cell_type": "code",
      "source": [
        "model6=model_text_4.predict(X_test)"
      ],
      "execution_count": 0,
      "outputs": []
    },
    {
      "metadata": {
        "id": "s509wkqjY05Q",
        "colab_type": "code",
        "colab": {
          "base_uri": "https://localhost:8080/",
          "height": 34
        },
        "outputId": "026afb37-cc4b-4efd-8399-2b0079f35f22"
      },
      "cell_type": "code",
      "source": [
        "auc = roc_auc_score(y_test, model6, average=\"macro\")\n",
        "print(auc)"
      ],
      "execution_count": 0,
      "outputs": [
        {
          "output_type": "stream",
          "text": [
            "0.5449665531039436\n"
          ],
          "name": "stdout"
        }
      ]
    },
    {
      "metadata": {
        "id": "iVAhws7HAIw_",
        "colab_type": "text"
      },
      "cell_type": "markdown",
      "source": [
        "# Unique Solution by Best Models Combine\n",
        "\n",
        "\n",
        " \n",
        "![Image of Yaktocat]( https://cdn-images-1.medium.com/max/1000/1*fy-6esoTWsTutld4fdSyCQ.png)\n",
        "\n",
        "\n",
        "### The method is to average the results of the best models in text and images\n",
        "\n"
      ]
    },
    {
      "metadata": {
        "id": "s7sD2KuCAKLf",
        "colab_type": "code",
        "colab": {
          "base_uri": "https://localhost:8080/",
          "height": 33
        },
        "outputId": "443df761-beb3-452d-b3f4-e5bd182df120"
      },
      "cell_type": "code",
      "source": [
        "y_pred_test_genres.shape\n"
      ],
      "execution_count": 0,
      "outputs": [
        {
          "output_type": "execute_result",
          "data": {
            "text/plain": [
              "(3383, 24)"
            ]
          },
          "metadata": {
            "tags": []
          },
          "execution_count": 93
        }
      ]
    },
    {
      "metadata": {
        "id": "rrGNiXkGaWqt",
        "colab_type": "code",
        "colab": {
          "base_uri": "https://localhost:8080/",
          "height": 33
        },
        "outputId": "e4de8cb2-1818-42da-dd35-90beffa6500f"
      },
      "cell_type": "code",
      "source": [
        "y_pred_test_genres[1,1]"
      ],
      "execution_count": 0,
      "outputs": [
        {
          "output_type": "execute_result",
          "data": {
            "text/plain": [
              "0.0026529268"
            ]
          },
          "metadata": {
            "tags": []
          },
          "execution_count": 144
        }
      ]
    },
    {
      "metadata": {
        "id": "kzm54HhwOk-S",
        "colab_type": "code",
        "colab": {}
      },
      "cell_type": "code",
      "source": [
        "Y = dataTesting['plot'].tolist()\n",
        "\n",
        "voc1 = set(''.join(Y))\n",
        "vocabulary1 = {x: idx + 1 for idx, x in enumerate(set(voc1))}\n",
        "\n",
        "# Max len\n",
        "max_plot_len = 150\n",
        "Y = [x[:max_plot_len] for x in Y]\n",
        "# Convert characters to int and pad\n",
        "Y = [[vocabulary1[x1] for x1 in x if x1 in vocabulary1.keys()] for x in Y]\n",
        "\n",
        "len(Y)\n",
        "\n",
        "Y_pad = sequence.pad_sequences(Y, maxlen=max_plot_len)\n"
      ],
      "execution_count": 0,
      "outputs": []
    },
    {
      "metadata": {
        "id": "ut487THAX5jn",
        "colab_type": "code",
        "colab": {
          "base_uri": "https://localhost:8080/",
          "height": 33
        },
        "outputId": "e51743e8-5b04-49cb-9ac5-f374b2d30f36"
      },
      "cell_type": "code",
      "source": [
        "Y_pad.shape"
      ],
      "execution_count": 0,
      "outputs": [
        {
          "output_type": "execute_result",
          "data": {
            "text/plain": [
              "(3383, 150)"
            ]
          },
          "metadata": {
            "tags": []
          },
          "execution_count": 143
        }
      ]
    },
    {
      "metadata": {
        "id": "X86xRkKDZmin",
        "colab_type": "code",
        "colab": {}
      },
      "cell_type": "code",
      "source": [
        "numpy.random.seed(110)\n",
        "y_pred_test_genres_text=model_text_2.predict(Y_pad)"
      ],
      "execution_count": 0,
      "outputs": []
    },
    {
      "metadata": {
        "id": "iRQm-C6afYBM",
        "colab_type": "code",
        "colab": {
          "base_uri": "https://localhost:8080/",
          "height": 33
        },
        "outputId": "3888630b-0bc6-4e61-83f9-77e6e0143e0e"
      },
      "cell_type": "code",
      "source": [
        "y_pred_test_genres_text[1,1]"
      ],
      "execution_count": 0,
      "outputs": [
        {
          "output_type": "execute_result",
          "data": {
            "text/plain": [
              "0.65275365"
            ]
          },
          "metadata": {
            "tags": []
          },
          "execution_count": 145
        }
      ]
    },
    {
      "metadata": {
        "id": "_UiYjPp_aAyI",
        "colab_type": "code",
        "colab": {
          "base_uri": "https://localhost:8080/",
          "height": 33
        },
        "outputId": "3b88f833-cf13-48d3-e8f1-0d7df3b20641"
      },
      "cell_type": "code",
      "source": [
        "y_pred_test_genres_text.shape"
      ],
      "execution_count": 0,
      "outputs": [
        {
          "output_type": "execute_result",
          "data": {
            "text/plain": [
              "(3383, 24)"
            ]
          },
          "metadata": {
            "tags": []
          },
          "execution_count": 103
        }
      ]
    },
    {
      "metadata": {
        "id": "mFhkPLJOafnT",
        "colab_type": "code",
        "colab": {
          "base_uri": "https://localhost:8080/",
          "height": 33
        },
        "outputId": "f25a050f-c2e2-4b3a-febb-8d325ebbd31c"
      },
      "cell_type": "code",
      "source": [
        "X =y_pred_test_genres_text\n",
        "Y = y_pred_test_genres\n",
        "len(X[0])"
      ],
      "execution_count": 0,
      "outputs": [
        {
          "output_type": "execute_result",
          "data": {
            "text/plain": [
              "24"
            ]
          },
          "metadata": {
            "tags": []
          },
          "execution_count": 115
        }
      ]
    },
    {
      "metadata": {
        "id": "oumKwWJ9bDoL",
        "colab_type": "code",
        "colab": {
          "base_uri": "https://localhost:8080/",
          "height": 134
        },
        "outputId": "becb3500-8ba6-42ac-b1c4-7f2b1992798f"
      },
      "cell_type": "code",
      "source": [
        "result = np.zeros((3383,24))\n",
        "result"
      ],
      "execution_count": 0,
      "outputs": [
        {
          "output_type": "execute_result",
          "data": {
            "text/plain": [
              "array([[0., 0., 0., ..., 0., 0., 0.],\n",
              "       [0., 0., 0., ..., 0., 0., 0.],\n",
              "       [0., 0., 0., ..., 0., 0., 0.],\n",
              "       ...,\n",
              "       [0., 0., 0., ..., 0., 0., 0.],\n",
              "       [0., 0., 0., ..., 0., 0., 0.],\n",
              "       [0., 0., 0., ..., 0., 0., 0.]])"
            ]
          },
          "metadata": {
            "tags": []
          },
          "execution_count": 110
        }
      ]
    },
    {
      "metadata": {
        "id": "CvfRk6-ZaFQP",
        "colab_type": "code",
        "colab": {}
      },
      "cell_type": "code",
      "source": [
        "result = [[(X[i][j] + Y[i][j])/2  for j in range(len(X[0]))] for i in range(len(X))]\n",
        "   "
      ],
      "execution_count": 0,
      "outputs": []
    },
    {
      "metadata": {
        "id": "FLmY0w6fa2lE",
        "colab_type": "code",
        "colab": {}
      },
      "cell_type": "code",
      "source": [
        "from google.colab import files\n",
        "\n",
        "\n",
        "cols = ['p_Action', 'p_Adventure', 'p_Animation', 'p_Biography', 'p_Comedy', 'p_Crime', 'p_Documentary', 'p_Drama', 'p_Family',\n",
        "        'p_Fantasy', 'p_Film-Noir', 'p_History', 'p_Horror', 'p_Music', 'p_Musical', 'p_Mystery', 'p_News', 'p_Romance',\n",
        "        'p_Sci-Fi', 'p_Short', 'p_Sport', 'p_Thriller', 'p_War', 'p_Western']\n",
        "\n",
        "pd.DataFrame(result, index=dataTesting.index, columns=cols).to_csv('pred_combine_img.csv', index_label='ID')\n",
        "\n",
        "files.download('pred_combine_img.csv')"
      ],
      "execution_count": 0,
      "outputs": []
    },
    {
      "metadata": {
        "id": "zT2awo_L5W6W",
        "colab_type": "text"
      },
      "cell_type": "markdown",
      "source": [
        "## Conclusions"
      ]
    },
    {
      "metadata": {
        "id": "KWIU0v3I5bGJ",
        "colab_type": "text"
      },
      "cell_type": "markdown",
      "source": [
        "###  In order to find the method that would best classify the categories of the films, different kinds of text and image classification methods were carried out, the text classification being the one with the best accuracy in all the methods. It is important to mention that the methods of Machine Learning had better performance than those of Deep learning, even with the assembly of results of the best two models."
      ]
    },
    {
      "metadata": {
        "id": "wDyfPFJi6Bml",
        "colab_type": "code",
        "colab": {}
      },
      "cell_type": "code",
      "source": [
        ""
      ],
      "execution_count": 0,
      "outputs": []
    }
  ]
}